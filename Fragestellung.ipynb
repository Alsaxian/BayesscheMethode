{
 "cells": [
  {
   "cell_type": "markdown",
   "metadata": {},
   "source": [
    "Eine Firma betreibt ein Punktschweißgerät, um bei der Herstellung ihres Produkts zwei Bleche zu verbinden. Die Ingenieure kennen den Schweißprozess sehr gut und wissen genau, mit welcher Leistung die Schweißklemme betrieben werden muss, um eine optimale Verbindung für eine bestimmte Kombination von zwei Blechen herzustellen. Die an die Bleche angelegte Leistung $P$ ergibt sich aus dem effektiven elektrischen Widerstand $R$ und dem angelegten Strom $I$.\n",
    "\n",
    "$$ P = RI^2 $$\n",
    "\n",
    "Im Folgenden wird angenommen, dass $R$ ausreichend konstant ist:\n",
    "\n",
    "$$ R = 4\\Omega$$\n",
    "\n",
    "Abhängig von der Kombination der Bleche wird für den Preamplifier der Stromquelle ein Strom $I_{set}$ von $4$, $4,5$, $5$ oder $5,6A$ eingestellt. Das Problem ist, dass dieser Preamplifier der Stromquelle aufgrund seines Alters sehr ungenau ist: Erstens hat seine Effizienz $\\rho$ abgenommen. Andererseits ändert sich der Output nach jeder Einstellung normalverteilt mit einer Standardabweichung von $1A$:\n",
    "\n",
    "$$ I_{pre} = \\rho I_{set} + \\mathcal{N}(0, 1) $$\n",
    "\n",
    "Der Output des Preamplifiers wird dann durch einen Amplifier gesendet. Der Amplifier hat eine wohldefinierte Antwortfunktion.\n",
    "\n",
    "$$ f(I_{pre}) = 5 + \\frac{10}{1 + \\exp(-I_{pre} + 4)} $$\n",
    "\n",
    "Aufgrund seines Alters gibt es jedoch eine signifikante Schwankung um die Reaktion mit einer Standardabweichung von $3A$\n",
    "\n",
    "$$ I = f(I_{pre}) + \\mathcal{N}(0, 3^2) $$\n",
    "\n",
    "Gegeben sei nun ein Datensatz der Beobachtungen von $I_{set}$ und $P$. Was ist der Durchschnittswert und die Ungenauigkeit von $\\rho$?"
   ]
  }
 ],
 "metadata": {
  "language_info": {
   "codemirror_mode": {
    "name": "ipython",
    "version": 3
   },
   "file_extension": ".py",
   "mimetype": "text/x-python",
   "name": "python",
   "nbconvert_exporter": "python",
   "pygments_lexer": "ipython3",
   "version": 3
  },
  "orig_nbformat": 2
 },
 "nbformat": 4,
 "nbformat_minor": 2
}